{
 "cells": [
  {
   "cell_type": "code",
   "execution_count": null,
   "metadata": {},
   "outputs": [],
   "source": []
  }
 ],
 "metadata": {
  "kernelspec": {
   "display_name": "Python 3",
   "language": "python",
   "name": "python3"
  },
  "language_info": {
   "codemirror_mode": {
    "name": "ipython",
    "version": 3
   },
   "file_extension": ".py",
   "mimetype": "text/x-python",
   "name": "python",
   "nbconvert_exporter": "python",
   "pygments_lexer": "ipython3",
   "version": "3.8.5"
  }
 },
 "nbformat": 4,
 "nbformat_minor": 4
}

import numpy as np
import matplotlib.pyplot as plt

r = 0.1 # 1/s
T_s = 295 # K
T_0 = 356 # K

t = np.arange(0, 3000, 0.1)

T = T_s + (T_0 - T_s)*np.exp(-r*t)

plt.plot(t/60, T)   #t/60 so that we get minutes along the x-axis instead of seconds
plt.xlabel("t [min]")
plt.ylabel("T [K]")
plt.title("Temperature - analytical solution")
plt.show()
